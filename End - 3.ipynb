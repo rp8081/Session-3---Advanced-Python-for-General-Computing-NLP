{
 "cells": [
  {
   "cell_type": "markdown",
   "metadata": {},
   "source": [
    "##### Question1 :- Write a function using only list filter lambda that can tell whether a number is a Fibonacci number or not. \n",
    "##### You can use a pre-calculated list/dict to store fab numbers till 10000"
   ]
  },
  {
   "cell_type": "code",
   "execution_count": 6,
   "metadata": {},
   "outputs": [],
   "source": [
    "## First we will create a list which stores fibonacci numbers upto 10k\n",
    "## We will write a lambda function, which takes a number as an iput and tells if it is fibonacci number or not \n",
    "n1, n2 = 0, 1\n",
    "lst = [0]\n",
    "while n2 < 10000:\n",
    "    nth = n1 + n2\n",
    "    lst.append(nth)\n",
    "    n1 = n2\n",
    "    n2 = nth\n",
    "    \n",
    "f1 = lambda x : 'its a fibonacci number' if x in lst  else 'not a fibonacci number'\n",
    "   "
   ]
  },
  {
   "cell_type": "code",
   "execution_count": 13,
   "metadata": {},
   "outputs": [
    {
     "data": {
      "text/plain": [
       "('its a fibonacci number',\n",
       " 'not a fibonacci number',\n",
       " 'not a fibonacci number',\n",
       " 'its a fibonacci number')"
      ]
     },
     "execution_count": 13,
     "metadata": {},
     "output_type": "execute_result"
    }
   ],
   "source": [
    "## illustraion\n",
    "f1(8) , f1(10), f1(9999) , f1(10946)"
   ]
  },
  {
   "cell_type": "markdown",
   "metadata": {},
   "source": [
    "##### Question 2.1 Using list comprehension (and zip/lambda/etc if required) write five different expressions that:\n",
    "##### add 2 iterables a and b such that a is even and b is odd"
   ]
  },
  {
   "cell_type": "code",
   "execution_count": 16,
   "metadata": {},
   "outputs": [],
   "source": [
    "a = [ x for x in range(20) if x%2==0]\n",
    "b= [x for x in range(20) if x%3==0 ]"
   ]
  },
  {
   "cell_type": "code",
   "execution_count": 29,
   "metadata": {},
   "outputs": [
    {
     "data": {
      "text/plain": [
       "105"
      ]
     },
     "execution_count": 29,
     "metadata": {},
     "output_type": "execute_result"
    }
   ],
   "source": [
    "from functools import reduce\n",
    "sum(reduce(lambda x, y: x+y, list(zip(a,b) )))"
   ]
  },
  {
   "cell_type": "markdown",
   "metadata": {},
   "source": [
    "##### Question 2.2 Using list comprehension (and zip/lambda/etc if required) write five different expressions that:\n",
    "##### strips every vowel from a string provided (tsai>>t s)"
   ]
  },
  {
   "cell_type": "code",
   "execution_count": 49,
   "metadata": {},
   "outputs": [],
   "source": [
    "\n",
    "f1  = lambda inp : ''.join(list(filter(lambda x1: ( x1 not in ['a','e','i','o','u']), [x1 for x1 in inp  ])))"
   ]
  },
  {
   "cell_type": "code",
   "execution_count": 50,
   "metadata": {},
   "outputs": [
    {
     "data": {
      "text/plain": [
       "'ts'"
      ]
     },
     "execution_count": 50,
     "metadata": {},
     "output_type": "execute_result"
    }
   ],
   "source": [
    "inp = 'tsai'\n",
    "f1(inp)"
   ]
  },
  {
   "cell_type": "code",
   "execution_count": 51,
   "metadata": {},
   "outputs": [
    {
     "data": {
      "text/plain": [
       "'ppl'"
      ]
     },
     "execution_count": 51,
     "metadata": {},
     "output_type": "execute_result"
    }
   ],
   "source": [
    "inp = 'apple'\n",
    "f1(inp)"
   ]
  },
  {
   "cell_type": "markdown",
   "metadata": {},
   "source": [
    "##### Question 2.3 Using list comprehension (and zip/lambda/etc if required) write five different expressions that:\n",
    "##### acts like a ReLU function for a 1D array"
   ]
  },
  {
   "cell_type": "code",
   "execution_count": 71,
   "metadata": {},
   "outputs": [],
   "source": [
    "\n",
    "f1 = lambda ar : list(map(lambda x : x if (x > 0) else 0 , ar))"
   ]
  },
  {
   "cell_type": "code",
   "execution_count": 73,
   "metadata": {},
   "outputs": [
    {
     "data": {
      "text/plain": [
       "[0, 4, 5, 0, 0, 0]"
      ]
     },
     "execution_count": 73,
     "metadata": {},
     "output_type": "execute_result"
    }
   ],
   "source": [
    "array1 = [-1,4,5,-8,-9,0]\n",
    "f1(array1)"
   ]
  },
  {
   "cell_type": "code",
   "execution_count": 74,
   "metadata": {},
   "outputs": [
    {
     "data": {
      "text/plain": [
       "[8, 4, 5, 0, 0, 0]"
      ]
     },
     "execution_count": 74,
     "metadata": {},
     "output_type": "execute_result"
    }
   ],
   "source": [
    "array2 = [8,4,5,-8,-9,0]\n",
    "f1(array2)"
   ]
  },
  {
   "cell_type": "markdown",
   "metadata": {},
   "source": [
    "##### Question 2.4 Using list comprehension (and zip/lambda/etc if required) write five different expressions that:\n",
    "##### acts like a Sigmoid function for a 1D array\n"
   ]
  },
  {
   "cell_type": "code",
   "execution_count": 75,
   "metadata": {},
   "outputs": [],
   "source": [
    "import math\n",
    "f1 = lambda ar : list(map(lambda x : 1 / (1 + math.exp(-x)) , ar))"
   ]
  },
  {
   "cell_type": "code",
   "execution_count": 76,
   "metadata": {},
   "outputs": [
    {
     "data": {
      "text/plain": [
       "[0.2689414213699951,\n",
       " 0.9820137900379085,\n",
       " 0.9933071490757153,\n",
       " 0.0003353501304664781,\n",
       " 0.00012339457598623172,\n",
       " 0.5]"
      ]
     },
     "execution_count": 76,
     "metadata": {},
     "output_type": "execute_result"
    }
   ],
   "source": [
    "array1 = [-1,4,5,-8,-9,0]\n",
    "f1(array1)"
   ]
  },
  {
   "cell_type": "code",
   "execution_count": 77,
   "metadata": {},
   "outputs": [
    {
     "data": {
      "text/plain": [
       "[0.9996646498695336,\n",
       " 0.9820137900379085,\n",
       " 0.9933071490757153,\n",
       " 0.0003353501304664781,\n",
       " 0.00012339457598623172,\n",
       " 0.5]"
      ]
     },
     "execution_count": 77,
     "metadata": {},
     "output_type": "execute_result"
    }
   ],
   "source": [
    "array2 = [8,4,5,-8,-9,0]\n",
    "f1(array2)"
   ]
  },
  {
   "cell_type": "markdown",
   "metadata": {},
   "source": [
    "##### Question 2.5 takes a small character string and shifts all characters by 5 (handle boundary conditions) tsai>>yxfn"
   ]
  },
  {
   "cell_type": "code",
   "execution_count": null,
   "metadata": {},
   "outputs": [],
   "source": []
  },
  {
   "cell_type": "code",
   "execution_count": null,
   "metadata": {},
   "outputs": [],
   "source": []
  },
  {
   "cell_type": "markdown",
   "metadata": {},
   "source": [
    "##### Question 3 : A list comprehension expression that takes a ~200 word paragraph (write your own paragraph to check), and\n",
    "##### checks whether it has any of the swear words mentioned in \n",
    "##### https://github.com/RobertJGabriel/Google-profanity-words/blob/master/list.txt "
   ]
  },
  {
   "cell_type": "code",
   "execution_count": 48,
   "metadata": {},
   "outputs": [
    {
     "data": {
      "text/plain": [
       "['4r5e', '5h1t', '5hit', 'a55', 'anal', 'anus', 'ar5e', 'arrse', 'arse', 'ass']"
      ]
     },
     "execution_count": 48,
     "metadata": {},
     "output_type": "execute_result"
    }
   ],
   "source": [
    "#### download the text file\n",
    "import urllib.request\n",
    "import re\n",
    "url = 'https://github.com/RobertJGabriel/Google-profanity-words/blob/master/list.txt'\n",
    "urllib.request.urlretrieve(url, 'C:/Users/503111508/Documents/list.txt')\n",
    "## read the text file and convert in list\n",
    "f = open('C:/Users/503111508/Documents/list.txt', 'r')\n",
    "content = f.read()\n",
    "m_list = content.split()\n",
    "## extract only swear words\n",
    "lst = [x for x in m_list if 'js-file-line' in x]\n",
    "lst.remove('js-file-line-container\"')\n",
    "profan_list = [x.replace('js-file-line\">', \"\").replace('</td>','') for x in lst]\n",
    "profan_list.remove(\"js-file-line-actions\")\n",
    "profan_list[:10]"
   ]
  },
  {
   "cell_type": "code",
   "execution_count": 50,
   "metadata": {},
   "outputs": [
    {
     "data": {
      "text/plain": [
       "451"
      ]
     },
     "execution_count": 50,
     "metadata": {},
     "output_type": "execute_result"
    }
   ],
   "source": [
    "len(profan_list)"
   ]
  },
  {
   "cell_type": "code",
   "execution_count": 54,
   "metadata": {},
   "outputs": [
    {
     "data": {
      "text/plain": [
       "['cunts',\n",
       " 'cyalis',\n",
       " 'cyberfuc',\n",
       " 'cyberfuck',\n",
       " 'cyberfucked',\n",
       " 'cyberfucker',\n",
       " 'cyberfuckers',\n",
       " 'cyberfucking',\n",
       " 'd1ck']"
      ]
     },
     "execution_count": 54,
     "metadata": {},
     "output_type": "execute_result"
    }
   ],
   "source": [
    "profan_list[105:114]"
   ]
  },
  {
   "cell_type": "code",
   "execution_count": 68,
   "metadata": {},
   "outputs": [],
   "source": [
    "f1 = lambda x: 'swear word exists in this paragraph' if any(item in profan_list for item in re.findall(r'\\s|,|[^,\\s]+', x)) else 'no swear word in this para'"
   ]
  },
  {
   "cell_type": "code",
   "execution_count": 87,
   "metadata": {},
   "outputs": [
    {
     "data": {
      "text/plain": [
       "'swear word exists in this paragraph'"
      ]
     },
     "execution_count": 87,
     "metadata": {},
     "output_type": "execute_result"
    }
   ],
   "source": [
    "### check1\n",
    "\n",
    "paragraph_to_check = '''\n",
    "With over 1.5 billion English speakers around the globe, you can bet there are different styles and \n",
    "flavors when it comes to English swear words. \n",
    "You’ve got the American English swear words which you’ve likely heard in many Hollywood movies, \n",
    "the Australian English curse words that are to die for, and the sophisticated sounding British swear words.\n",
    "The most common swaer words are fuck, shit ,Asshole, bitch, bastard.\n",
    "'''\n",
    "\n",
    "\n",
    "f1(paragraph_to_check)"
   ]
  },
  {
   "cell_type": "code",
   "execution_count": 88,
   "metadata": {},
   "outputs": [
    {
     "data": {
      "text/plain": [
       "'no swear word in this para'"
      ]
     },
     "execution_count": 88,
     "metadata": {},
     "output_type": "execute_result"
    }
   ],
   "source": [
    "### check1\n",
    "\n",
    "paragraph_to_check = '''\n",
    "With over 1.5 billion English speakers around the globe, you can bet there are different styles and \n",
    "flavors when it comes to English swear words. \n",
    "You’ve got the American English swear words which you’ve likely heard in many Hollywood movies, \n",
    "the Australian English curse words that are to die for, and the sophisticated sounding British swear words.\n",
    "The most common swaer words ---- sorry --- i am not not allowed to say -- god bless you.\n",
    "'''\n",
    "\n",
    "\n",
    "f1(paragraph_to_check)"
   ]
  },
  {
   "cell_type": "markdown",
   "metadata": {},
   "source": [
    "##### 4.1 Using reduce functions:add only even numbers in a list"
   ]
  },
  {
   "cell_type": "code",
   "execution_count": 3,
   "metadata": {},
   "outputs": [],
   "source": [
    "from functools import reduce\n",
    "f1  = lambda inp : reduce(lambda x, y: x+y,  list(filter(lambda x1: ( x1%2==0), inp))   )"
   ]
  },
  {
   "cell_type": "code",
   "execution_count": 4,
   "metadata": {},
   "outputs": [
    {
     "data": {
      "text/plain": [
       "6"
      ]
     },
     "execution_count": 4,
     "metadata": {},
     "output_type": "execute_result"
    }
   ],
   "source": [
    "inp = [2,3,4,5]\n",
    "f1(inp)"
   ]
  },
  {
   "cell_type": "code",
   "execution_count": 5,
   "metadata": {},
   "outputs": [
    {
     "data": {
      "text/plain": [
       "24"
      ]
     },
     "execution_count": 5,
     "metadata": {},
     "output_type": "execute_result"
    }
   ],
   "source": [
    "inp = [2,3,4,5,8,10]\n",
    "f1(inp)"
   ]
  },
  {
   "cell_type": "markdown",
   "metadata": {},
   "source": [
    "##### 4.2 find the biggest character in a string (printable ascii characters)"
   ]
  },
  {
   "cell_type": "code",
   "execution_count": 13,
   "metadata": {},
   "outputs": [],
   "source": [
    "#f1 = lambda inp: max(inp)\n",
    "f1  = lambda inp : reduce(lambda x, y: max(x,y),  list(inp)   )"
   ]
  },
  {
   "cell_type": "code",
   "execution_count": 14,
   "metadata": {},
   "outputs": [
    {
     "data": {
      "text/plain": [
       "'e'"
      ]
     },
     "execution_count": 14,
     "metadata": {},
     "output_type": "execute_result"
    }
   ],
   "source": [
    "inp = 'abcde'\n",
    "f1(inp)"
   ]
  },
  {
   "cell_type": "code",
   "execution_count": 15,
   "metadata": {},
   "outputs": [
    {
     "data": {
      "text/plain": [
       "'O'"
      ]
     },
     "execution_count": 15,
     "metadata": {},
     "output_type": "execute_result"
    }
   ],
   "source": [
    "inp = 'LMNOK'\n",
    "f1(inp)"
   ]
  },
  {
   "cell_type": "markdown",
   "metadata": {},
   "source": [
    "##### 4.3 adds every 3rd number in a list"
   ]
  },
  {
   "cell_type": "code",
   "execution_count": 34,
   "metadata": {},
   "outputs": [
    {
     "data": {
      "text/plain": [
       "48"
      ]
     },
     "execution_count": 34,
     "metadata": {},
     "output_type": "execute_result"
    }
   ],
   "source": [
    "f1  = lambda inp : reduce(lambda x, y: x+y,  [lst[i] for i in [x-1 for x in [j for j in [i+1 for i, j in enumerate(lst)] if j%3==0 ]]]   )\n",
    "lst = [11,12,13,14,15,16,17,18,19]\n",
    "f1(lst)"
   ]
  },
  {
   "cell_type": "code",
   "execution_count": 35,
   "metadata": {},
   "outputs": [
    {
     "data": {
      "text/plain": [
       "6"
      ]
     },
     "execution_count": 35,
     "metadata": {},
     "output_type": "execute_result"
    }
   ],
   "source": [
    "lst = [1,2,1,2,3,4,4,3,1,5]\n",
    "f1(lst)"
   ]
  },
  {
   "cell_type": "code",
   "execution_count": null,
   "metadata": {},
   "outputs": [],
   "source": []
  }
 ],
 "metadata": {
  "kernelspec": {
   "display_name": "Python 3",
   "language": "python",
   "name": "python3"
  },
  "language_info": {
   "codemirror_mode": {
    "name": "ipython",
    "version": 3
   },
   "file_extension": ".py",
   "mimetype": "text/x-python",
   "name": "python",
   "nbconvert_exporter": "python",
   "pygments_lexer": "ipython3",
   "version": "3.7.6"
  }
 },
 "nbformat": 4,
 "nbformat_minor": 4
}
