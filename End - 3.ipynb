{
 "cells": [
  {
   "cell_type": "markdown",
   "metadata": {},
   "source": [
    "##### Question1 :- Write a function using only list filter lambda that can tell whether a number is a Fibonacci number or not. \n",
    "##### You can use a pre-calculated list/dict to store fab numbers till 10000"
   ]
  },
  {
   "cell_type": "code",
   "execution_count": 6,
   "metadata": {},
   "outputs": [],
   "source": [
    "## First we will create a list which stores fibonacci numbers upto 10k\n",
    "## We will write a lambda function, which takes a number as an iput and tells if it is fibonacci number or not \n",
    "n1, n2 = 0, 1\n",
    "lst = [0]\n",
    "while n2 < 10000:\n",
    "    nth = n1 + n2\n",
    "    lst.append(nth)\n",
    "    n1 = n2\n",
    "    n2 = nth\n",
    "    \n",
    "f1 = lambda x : 'its a fibonacci number' if x in lst  else 'not a fibonacci number'\n",
    "   "
   ]
  },
  {
   "cell_type": "code",
   "execution_count": 13,
   "metadata": {},
   "outputs": [
    {
     "data": {
      "text/plain": [
       "('its a fibonacci number',\n",
       " 'not a fibonacci number',\n",
       " 'not a fibonacci number',\n",
       " 'its a fibonacci number')"
      ]
     },
     "execution_count": 13,
     "metadata": {},
     "output_type": "execute_result"
    }
   ],
   "source": [
    "## illustraion\n",
    "f1(8) , f1(10), f1(9999) , f1(10946)"
   ]
  },
  {
   "cell_type": "markdown",
   "metadata": {},
   "source": [
    "##### Question 2.1 Using list comprehension (and zip/lambda/etc if required) write five different expressions that:\n",
    "##### add 2 iterables a and b such that a is even and b is odd"
   ]
  },
  {
   "cell_type": "code",
   "execution_count": 16,
   "metadata": {},
   "outputs": [],
   "source": [
    "a = [ x for x in range(20) if x%2==0]\n",
    "b= [x for x in range(20) if x%3==0 ]"
   ]
  },
  {
   "cell_type": "code",
   "execution_count": 29,
   "metadata": {},
   "outputs": [
    {
     "data": {
      "text/plain": [
       "105"
      ]
     },
     "execution_count": 29,
     "metadata": {},
     "output_type": "execute_result"
    }
   ],
   "source": [
    "from functools import reduce\n",
    "sum(reduce(lambda x, y: x+y, list(zip(a,b) )))"
   ]
  },
  {
   "cell_type": "markdown",
   "metadata": {},
   "source": [
    "##### Question 2.2 Using list comprehension (and zip/lambda/etc if required) write five different expressions that:\n",
    "##### strips every vowel from a string provided (tsai>>t s)"
   ]
  },
  {
   "cell_type": "code",
   "execution_count": 49,
   "metadata": {},
   "outputs": [],
   "source": [
    "\n",
    "f1  = lambda inp : ''.join(list(filter(lambda x1: ( x1 not in ['a','e','i','o','u']), [x1 for x1 in inp  ])))"
   ]
  },
  {
   "cell_type": "code",
   "execution_count": 50,
   "metadata": {},
   "outputs": [
    {
     "data": {
      "text/plain": [
       "'ts'"
      ]
     },
     "execution_count": 50,
     "metadata": {},
     "output_type": "execute_result"
    }
   ],
   "source": [
    "inp = 'tsai'\n",
    "f1(inp)"
   ]
  },
  {
   "cell_type": "code",
   "execution_count": 51,
   "metadata": {},
   "outputs": [
    {
     "data": {
      "text/plain": [
       "'ppl'"
      ]
     },
     "execution_count": 51,
     "metadata": {},
     "output_type": "execute_result"
    }
   ],
   "source": [
    "inp = 'apple'\n",
    "f1(inp)"
   ]
  },
  {
   "cell_type": "markdown",
   "metadata": {},
   "source": [
    "##### Question 2.3 Using list comprehension (and zip/lambda/etc if required) write five different expressions that:\n",
    "##### acts like a ReLU function for a 1D array"
   ]
  },
  {
   "cell_type": "code",
   "execution_count": 71,
   "metadata": {},
   "outputs": [],
   "source": [
    "\n",
    "f1 = lambda ar : list(map(lambda x : x if (x > 0) else 0 , ar))"
   ]
  },
  {
   "cell_type": "code",
   "execution_count": 73,
   "metadata": {},
   "outputs": [
    {
     "data": {
      "text/plain": [
       "[0, 4, 5, 0, 0, 0]"
      ]
     },
     "execution_count": 73,
     "metadata": {},
     "output_type": "execute_result"
    }
   ],
   "source": [
    "array1 = [-1,4,5,-8,-9,0]\n",
    "f1(array1)"
   ]
  },
  {
   "cell_type": "code",
   "execution_count": 74,
   "metadata": {},
   "outputs": [
    {
     "data": {
      "text/plain": [
       "[8, 4, 5, 0, 0, 0]"
      ]
     },
     "execution_count": 74,
     "metadata": {},
     "output_type": "execute_result"
    }
   ],
   "source": [
    "array2 = [8,4,5,-8,-9,0]\n",
    "f1(array2)"
   ]
  },
  {
   "cell_type": "markdown",
   "metadata": {},
   "source": [
    "##### Question 2.4 Using list comprehension (and zip/lambda/etc if required) write five different expressions that:\n",
    "##### acts like a Sigmoid function for a 1D array\n"
   ]
  },
  {
   "cell_type": "code",
   "execution_count": 75,
   "metadata": {},
   "outputs": [],
   "source": [
    "import math\n",
    "f1 = lambda ar : list(map(lambda x : 1 / (1 + math.exp(-x)) , ar))"
   ]
  },
  {
   "cell_type": "code",
   "execution_count": 76,
   "metadata": {},
   "outputs": [
    {
     "data": {
      "text/plain": [
       "[0.2689414213699951,\n",
       " 0.9820137900379085,\n",
       " 0.9933071490757153,\n",
       " 0.0003353501304664781,\n",
       " 0.00012339457598623172,\n",
       " 0.5]"
      ]
     },
     "execution_count": 76,
     "metadata": {},
     "output_type": "execute_result"
    }
   ],
   "source": [
    "array1 = [-1,4,5,-8,-9,0]\n",
    "f1(array1)"
   ]
  },
  {
   "cell_type": "code",
   "execution_count": 77,
   "metadata": {},
   "outputs": [
    {
     "data": {
      "text/plain": [
       "[0.9996646498695336,\n",
       " 0.9820137900379085,\n",
       " 0.9933071490757153,\n",
       " 0.0003353501304664781,\n",
       " 0.00012339457598623172,\n",
       " 0.5]"
      ]
     },
     "execution_count": 77,
     "metadata": {},
     "output_type": "execute_result"
    }
   ],
   "source": [
    "array2 = [8,4,5,-8,-9,0]\n",
    "f1(array2)"
   ]
  },
  {
   "cell_type": "markdown",
   "metadata": {},
   "source": [
    "##### Question 2.5 takes a small character string and shifts all characters by 5 (handle boundary conditions) tsai>>yxfn"
   ]
  },
  {
   "cell_type": "markdown",
   "metadata": {},
   "source": [
    "##### A list comprehension expression that takes a ~200 word paragraph (write your own paragraph to check), and\n",
    "##### checks whether it has any of the swear words mentioned in \n",
    "##### https://github.com/RobertJGabriel/Google-profanity-words/blob/master/list.txt "
   ]
  },
  {
   "cell_type": "markdown",
   "metadata": {},
   "source": [
    "##### 4.1 Using reduce functions:add only even numbers in a list"
   ]
  },
  {
   "cell_type": "code",
   "execution_count": 97,
   "metadata": {},
   "outputs": [],
   "source": [
    "\n",
    "f1  = lambda inp : reduce(lambda x, y: x+y,  list(filter(lambda x1: ( x1%2==0), inp))   )"
   ]
  },
  {
   "cell_type": "code",
   "execution_count": 98,
   "metadata": {},
   "outputs": [
    {
     "data": {
      "text/plain": [
       "6"
      ]
     },
     "execution_count": 98,
     "metadata": {},
     "output_type": "execute_result"
    }
   ],
   "source": [
    "inp = [2,3,4,5]\n",
    "f1(inp)"
   ]
  },
  {
   "cell_type": "code",
   "execution_count": 99,
   "metadata": {},
   "outputs": [
    {
     "data": {
      "text/plain": [
       "24"
      ]
     },
     "execution_count": 99,
     "metadata": {},
     "output_type": "execute_result"
    }
   ],
   "source": [
    "inp = [2,3,4,5,8,10]\n",
    "f1(inp)"
   ]
  },
  {
   "cell_type": "code",
   "execution_count": null,
   "metadata": {},
   "outputs": [],
   "source": []
  }
 ],
 "metadata": {
  "kernelspec": {
   "display_name": "Python 3",
   "language": "python",
   "name": "python3"
  },
  "language_info": {
   "codemirror_mode": {
    "name": "ipython",
    "version": 3
   },
   "file_extension": ".py",
   "mimetype": "text/x-python",
   "name": "python",
   "nbconvert_exporter": "python",
   "pygments_lexer": "ipython3",
   "version": "3.7.6"
  }
 },
 "nbformat": 4,
 "nbformat_minor": 4
}
